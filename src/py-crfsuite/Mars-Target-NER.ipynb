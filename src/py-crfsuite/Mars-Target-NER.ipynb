{
 "cells": [
  {
   "cell_type": "markdown",
   "metadata": {},
   "source": [
    "# Mars Target Encyclopedia  - NER\n",
    "Thamme Gowda (Thamme.Gowda@jpl.nasa.gov)\n",
    "\n",
    "Named Entity Recognition / Sequence Tagging\n",
    "This notebook contains NER tagging using CRF suite\n",
    "\n",
    "\n",
    "### Notes:\n",
    " + Use python3, Reason: we need unicode strings, which is default in python3\n",
    " + install Python-crfsuite\n",
    " + Start CoreNLP Server"
   ]
  },
  {
   "cell_type": "code",
   "execution_count": 46,
   "metadata": {
    "collapsed": false
   },
   "outputs": [
    {
     "name": "stdout",
     "output_type": "stream",
     "text": [
      "0.18.1\n"
     ]
    }
   ],
   "source": [
    "from itertools import chain\n",
    "from sklearn.metrics import classification_report, confusion_matrix\n",
    "from sklearn.preprocessing import LabelBinarizer\n",
    "import sklearn\n",
    "import pycrfsuite\n",
    "from pycorenlp import StanfordCoreNLP\n",
    "from codecs import open as copen\n",
    "\n",
    "import os, glob\n",
    "import pickle\n",
    "\n",
    "print(sklearn.__version__)"
   ]
  },
  {
   "cell_type": "code",
   "execution_count": 2,
   "metadata": {
    "collapsed": false
   },
   "outputs": [],
   "source": [
    "#accept_labels = set(['Element', 'Mineral', 'Target', 'Material', 'Locality', 'Site'])\n",
    "accept_labels = set(['Target'])\n",
    "\n",
    "\n",
    "class BratToCRFSuitFeaturizer(object):\n",
    "    def __init__(self, corenlp_url='http://localhost:9000', iob=False):\n",
    "        '''\n",
    "        Create Converter for converting brat annotations to Core NLP NER CRF\n",
    "        classifier training data.\n",
    "        @param corenlp_url: URL to corenlp server.\n",
    "                To start the server checkout: http://stanfordnlp.github.io/CoreNLP/corenlp-server.html#getting-started\n",
    "        @param iob: set 'True' for IOB encoding\n",
    "        '''\n",
    "        self.corenlp = StanfordCoreNLP(corenlp_url)\n",
    "        self.iob = iob\n",
    "\n",
    "    def convert(self, text_file, ann_file):\n",
    "        text, tree = self.parse(text_file, ann_file)\n",
    "        props = { 'annotators': 'tokenize,ssplit,lemma,pos', 'outputFormat': 'json'}\n",
    "        if text[0].isspace():\n",
    "            text = '.' + text[1:]\n",
    "            # Reason: some tools trim/strip off the white spaces\n",
    "            # which will mismatch the character offsets\n",
    "        output = self.corenlp.annotate(text, properties=props)\n",
    "        records = []\n",
    "        for sentence in output['sentences']:\n",
    "            sent_features = []\n",
    "            continue_ann, continue_ann_en = None, None\n",
    "            for tok in sentence['tokens']:\n",
    "                begin, tok_end = tok['characterOffsetBegin'], tok['characterOffsetEnd']\n",
    "                label = 'O'\n",
    "                if begin in tree:\n",
    "                    node = tree[begin]\n",
    "                    if len(node) > 1:\n",
    "                        print(\"WARN: multiple starts at \", begin, node)\n",
    "                        if tok_end in node:\n",
    "                            node = {tok_end: node[tok_end]} # picking one\n",
    "                            print(\"Chose:\", node)\n",
    "\n",
    "                    ann_end, labels = list(node.items())[0]\n",
    "                    if not len(labels) == 1:\n",
    "                        print(\"WARN: Duplicate labels for token: %s, label:%s.\\\n",
    "                              Using the first one!\" % (tok['word'], str(labels)))\n",
    "                    if accept_labels is not None and labels[0] in accept_labels:\n",
    "                        label = labels[0]\n",
    "\n",
    "                    if tok_end == ann_end: # annotation ends where token ends\n",
    "                        continue_ann = None\n",
    "                    elif tok_end < ann_end and label != 'O':\n",
    "                        #print(\"Continue for the next %d chars\" % (ann_end - tok_end))\n",
    "                        continue_ann = label\n",
    "                        continue_ann_end = ann_end \n",
    "                    if label != 'O' and self.iob:\n",
    "                        label = \"B-\" + label\n",
    "                elif continue_ann is not None and tok_end <= continue_ann_end:\n",
    "                    #print(\"Continuing the annotation %s, %d:%d %d]\" % \n",
    "                    #(continue_ann, begin, tok_end, continue_ann_end))\n",
    "                    label = continue_ann            # previous label is this label\n",
    "                    if continue_ann_end == tok_end: # continuation ends here\n",
    "                        #print(\"End\")\n",
    "                        continue_ann = None\n",
    "                    if self.iob:\n",
    "                        label = \"I-\" + label\n",
    "                sent_features.append([tok['word'], tok['lemma'], tok['pos'], label])\n",
    "            yield sent_features\n",
    "\n",
    "\n",
    "    def parse(self, txt_file, ann_file):\n",
    "        with copen(ann_file, 'r', encoding='utf-8') as ann_file:\n",
    "            with copen(txt_file, 'r', encoding='utf-8') as text_file:\n",
    "                texts = text_file.read()\n",
    "            anns = map(lambda x: x.strip().split('\\t'), ann_file)\n",
    "            anns = filter(lambda x: len(x) > 2, anns)\n",
    "            # FIXME: ignoring the annotatiosn which are complex\n",
    "\n",
    "            anns = filter(lambda x: ';' not in x[1], anns)\n",
    "            # FIXME: some annotations' spread have been split into many, separated by ; ignoring them\n",
    "\n",
    "            def __parse_ann(ann):\n",
    "                spec = ann[1].split()\n",
    "                name = spec[0]\n",
    "                markers = list(map(lambda x: int(x), spec[1:]))\n",
    "                #t = ' '.join([texts[begin:end] for begin,end in zip(markers[::2], markers[1::2])])\n",
    "                t = texts[markers[0]:markers[1]]\n",
    "                if not t == ann[2]:\n",
    "                    print(\"Error: Annotation mis-match, file=%s, ann=%s\" % (txt_file, str(ann)))\n",
    "                    return None\n",
    "                return (name, markers, t)\n",
    "            anns = map(__parse_ann, anns) # format\n",
    "            anns = filter(lambda x: x, anns) # skip None\n",
    "\n",
    "            # building a tree index for easy accessing\n",
    "            tree = {}\n",
    "            for entity_type, pos, name in anns:\n",
    "                begin, end = pos[0], pos[1]\n",
    "                if begin not in tree:\n",
    "                    tree[begin] = {}\n",
    "                node = tree[begin]\n",
    "                if end not in node:\n",
    "                    node[end] = []\n",
    "                node[end].append(entity_type)\n",
    "\n",
    "            # Re-read file in without decoding it\n",
    "            text_file = copen(txt_file, 'r', encoding='utf-8')\n",
    "            texts = text_file.read()\n",
    "            text_file.close()\n",
    "            return texts, tree\n",
    "\n",
    "def scan_dir(dir_name):\n",
    "    items = glob.glob(dir_name + \"/*.ann\")\n",
    "    items = map(lambda f: (f, f.replace(\".ann\", \".txt\")), items)\n",
    "    return items\n",
    "\n",
    "def preprocess_all(list_file, out_file):\n",
    "    featzr = BratToCRFSuitFeaturizer(iob=True)\n",
    "    tokenized = []\n",
    "    with open(list_file) as f:\n",
    "        examples = map(lambda l:l.strip().split(','), f.readlines())\n",
    "    for txt_file, ann_file in examples:\n",
    "        sents = featzr.convert(txt_file, ann_file)\n",
    "        tokenized.append(list(sents))\n",
    "\n",
    "    pickle.dump(tokenized, open(out_file, 'wb'))\n",
    "    print(\"Dumped %d docs to %s\" % (len(tokenized), out_file))"
   ]
  },
  {
   "cell_type": "markdown",
   "metadata": {},
   "source": [
    "## Parse and store the corpus\n",
    "\n",
    "In this step, we pass the text through CoreNLP pipeline, tokenize and POS tag them. \n",
    "In addition, we lookup the annotations file and match the target annotations with the token. \n",
    "\n",
    "Since this step is expensive, we store the results in pickle file, so that we can later load and resume our analysis for feature engineering."
   ]
  },
  {
   "cell_type": "code",
   "execution_count": null,
   "metadata": {
    "collapsed": false
   },
   "outputs": [],
   "source": [
    "p_dir = \"/Users/thammegr/work/mte/data/newcorpus/workspace\"\n",
    "train_list = p_dir + \"/train_62r15_685k14_384k15.list\"\n",
    "dev_list= p_dir + \"/development.list\"\n",
    "test_list = p_dir + \"/test.list\"\n",
    "\n",
    "train_corpus_file = 'mte-corpus-train.pickle'\n",
    "preprocess_all(train_list, train_corpus_file)\n",
    "\n",
    "# Test and Development set\n",
    "dev_corpus_file = 'mte-corpus-dev.pickle'\n",
    "preprocess_all(dev_list, dev_corpus_file)\n",
    "test_corpus_file = 'mte-corpus-test.pickle'\n",
    "preprocess_all(test_list, test_corpus_file)"
   ]
  },
  {
   "cell_type": "markdown",
   "metadata": {},
   "source": [
    "## Load the corpus\n",
    "Here we load the corpus from pickle file"
   ]
  },
  {
   "cell_type": "code",
   "execution_count": 5,
   "metadata": {
    "collapsed": false
   },
   "outputs": [
    {
     "data": {
      "text/plain": [
       "[['Hollow', 'hollow', 'JJ', 'O'],\n",
       " ['spherical', 'spherical', 'JJ', 'O'],\n",
       " ['feature', 'feature', 'NN', 'O'],\n",
       " ['observed', 'observe', 'VBN', 'O'],\n",
       " ['on', 'on', 'IN', 'O'],\n",
       " ['sol', 'sol', 'NN', 'O'],\n",
       " ['122', '122', 'CD', 'O'],\n",
       " ['in', 'in', 'IN', 'O'],\n",
       " ['the', 'the', 'DT', 'O'],\n",
       " ['Yellowknife', 'Yellowknife', 'NNP', 'O'],\n",
       " ['Bay', 'Bay', 'NNP', 'O'],\n",
       " ['area', 'area', 'NN', 'O'],\n",
       " ['.', '.', '.', 'O']]"
      ]
     },
     "execution_count": 5,
     "metadata": {},
     "output_type": "execute_result"
    }
   ],
   "source": [
    "corpus_file = 'mte-corpus-train.pickle'\n",
    "corpus = pickle.load(open(corpus_file, 'rb'))\n",
    "corpus[0][10]"
   ]
  },
  {
   "cell_type": "markdown",
   "metadata": {},
   "source": [
    "Next, we start playing with the features of CRF Suite to build a sequence tagger."
   ]
  },
  {
   "cell_type": "code",
   "execution_count": 80,
   "metadata": {
    "collapsed": false
   },
   "outputs": [
    {
     "name": "stdout",
     "output_type": "stream",
     "text": [
      "['|', '|', '|', 'O']\n",
      "['PDF', 'PDF', 'NNP', 'O']\n",
      "['CENTIMETER', 'CENTIMETER', 'NNP', 'O']\n",
      "['TO', 'to', 'TO', 'O']\n",
      "['DECIMETER', 'DECIMETER', 'NNP', 'O']\n",
      "['SIZE', 'SIZE', 'NNP', 'O']\n",
      "word.bias\n",
      "word.pos=TO\n",
      "word[-3:]=TO\n",
      "word[-2:]=TO\n",
      "word.islower=False\n",
      "-1:word.bias\n",
      "-1:word.pos=NNP\n",
      "-1:word[-3:]=TER\n",
      "-1:word[-2:]=ER\n",
      "-1:word.islower=False\n",
      "+1:word.bias\n",
      "+1:word.pos=NNP\n",
      "+1:word[-3:]=TER\n",
      "+1:word[-2:]=ER\n",
      "+1:word.islower=False\n",
      "+2:word.bias\n",
      "+2:word.pos=NNP\n",
      "+2:word[-3:]=IZE\n",
      "+2:word[-2:]=ZE\n",
      "+2:word.islower=False\n",
      "['feature.minfreq', 'feature.possible_states', 'feature.possible_transitions', 'c1', 'c2', 'max_iterations', 'num_memories', 'epsilon', 'period', 'delta', 'linesearch', 'max_linesearch']\n",
      "Training Done\n",
      "-rw-r--r--  1 thammegr  703763885   160K Feb 16 10:57 jpl-mars-target-ner-model.crfsuite\n",
      "CPU times: user 1min 38s, sys: 251 ms, total: 1min 38s\n",
      "Wall time: 1min 39s\n"
     ]
    }
   ],
   "source": [
    "%%time\n",
    "\n",
    "def word2features(sent, idx):\n",
    "    word = sent[idx]\n",
    "    \n",
    "    words = []\n",
    "    feats = []\n",
    "\n",
    "    # current word\n",
    "    words.append(('', sent[idx])) \n",
    "    # look behind\n",
    "    if idx > 0:\n",
    "        words.append(('-1:', sent[idx-1]))\n",
    "        # look behind one more\n",
    "        #if idx > 1:\n",
    "        #    words.append(('-2:', sent[idx-2]))\n",
    "    else:\n",
    "        feats.append('BOS') # begin of sequence\n",
    "    # look ahead\n",
    "    if idx < len(sent) - 1:\n",
    "        words.append(('+1:', sent[idx+1]))\n",
    "        # look ahead one more\n",
    "        if idx < len(sent) - 2:\n",
    "            words.append(('+2:', sent[idx+2]))\n",
    "    else:\n",
    "        feats.append('EOS') # end of sequence\n",
    "    for prefix, word in words:\n",
    "        feats.extend([\n",
    "                '%sword.bias'% (prefix),\n",
    "                #'%sword.lemma=%s' %(prefix, word[1]),\n",
    "                '%sword.pos=%s' %(prefix, word[2]),\n",
    "                #'%sword.lower=%s' %(prefix, word[0].lower()),\n",
    "                '%sword[-3:]=%s' %(prefix, word[0][-3:]),\n",
    "                '%sword[-2:]=%s' %(prefix, word[0][-2:]),\n",
    "                #'%sword.isupper=%s' % (prefix, word[0].isupper()),\n",
    "                #'%sword.istitle=%s' % (prefix, word[0].istitle()),\n",
    "                '%sword.islower=%s' % (prefix, word[0].islower()),\n",
    "                #'%sword.isdigit=%s' % (prefix, word[0].isdigit()),\n",
    "            ])\n",
    "    return feats\n",
    "\n",
    "def seq2features(sent):\n",
    "    return [word2features(sent, i) for i in range(len(sent))]\n",
    "\n",
    "def seq2labels(sent):\n",
    "    return [tok[3] for tok in sent]\n",
    "\n",
    "def merge_sequences(doc):\n",
    "    '''\n",
    "    document contains multiple sentences. here all sentences in document are merged to form one large sequence.\n",
    "    '''\n",
    "    res = []\n",
    "    for seq in doc:\n",
    "        res.extend(seq)\n",
    "        res.append(['|', '|', '|', 'O']) # sentence end marker\n",
    "    return res\n",
    "    \n",
    "trainer = pycrfsuite.Trainer(verbose=False)\n",
    "#print a sample\n",
    "flag = True\n",
    "for doc in corpus:\n",
    "    seq = merge_sequences(doc)\n",
    "    x_seq = seq2features(seq)\n",
    "    if flag:\n",
    "        p = 5\n",
    "        print(\"\\n\".join(map(str, seq[p-3:p+3])))\n",
    "        print(\"\\n\".join(x_seq[p]))\n",
    "        flag = False\n",
    "    y_seq = seq2labels(seq)\n",
    "    trainer.append(x_seq, y_seq)\n",
    "\n",
    "trainer.set_params({\n",
    "    'c1': 0.5,   # coefficient for L1 penalty\n",
    "    'c2': 1e-3,  # coefficient for L2 penalty\n",
    "    'max_iterations': 50,  # stop earlier\n",
    "    # include transitions that are possible, but not observed\n",
    "    'feature.possible_transitions': True\n",
    "})\n",
    "\n",
    "print(trainer.params())\n",
    "model_file = 'jpl-mars-target-ner-model.crfsuite'\n",
    "trainer.train(model_file)\n",
    "print(\"Training Done\")\n",
    "\n",
    "!ls -alh 'jpl-mars-target-ner-model.crfsuite'\n",
    "trainer.logparser.last_iteration"
   ]
  },
  {
   "cell_type": "markdown",
   "metadata": {
    "collapsed": true
   },
   "source": [
    "# Using the model to predict"
   ]
  },
  {
   "cell_type": "code",
   "execution_count": 81,
   "metadata": {
    "collapsed": false,
    "scrolled": false
   },
   "outputs": [
    {
     "name": "stdout",
     "output_type": "stream",
     "text": [
      "Truth, Predicted, [******]\n",
      "337 B-Target B-Target ['Confidence', 'Confidence', 'NNP', 'B-Target'] \n",
      "338 I-Target I-Target ['Hills', 'Hills', 'NNP', 'I-Target'] \n",
      "538 B-Target O ['Confidence', 'confidence', 'NN', 'B-Target'] <<<<<ERROR\n",
      "539 I-Target O ['Hill', 'Hill', 'NNP', 'I-Target'] <<<<<ERROR\n",
      "712 B-Target O ['Shoemaker', 'Shoemaker', 'NNP', 'B-Target'] <<<<<ERROR\n",
      "714 B-Target B-Target ['Alexander', 'Alexander', 'NNP', 'B-Target'] \n",
      "715 I-Target I-Target ['Hills', 'Hills', 'NNP', 'I-Target'] \n",
      "718 B-Target B-Target ['Chinle', 'Chinle', 'NNP', 'B-Target'] \n",
      "735 B-Target B-Target ['Pink', 'Pink', 'NNP', 'B-Target'] \n",
      "736 I-Target I-Target ['Cliffs', 'Cliffs', 'NNPS', 'I-Target'] \n",
      "738 B-Target B-Target ['Alexander', 'Alexander', 'NNP', 'B-Target'] \n",
      "739 I-Target I-Target ['Hills', 'Hills', 'NNP', 'I-Target'] \n",
      "780 B-Target B-Target ['Pink', 'Pink', 'NNP', 'B-Target'] \n",
      "781 I-Target I-Target ['Cliffs', 'Cliffs', 'NNPS', 'I-Target'] \n",
      "783 B-Target B-Target ['Book', 'book', 'VB', 'B-Target'] \n",
      "784 I-Target I-Target ['Cliffs', 'Cliffs', 'NNPS', 'I-Target'] \n",
      "786 B-Target B-Target ['Alexander', 'Alexander', 'NNP', 'B-Target'] \n",
      "787 I-Target I-Target ['Hills', 'Hills', 'NNP', 'I-Target'] \n",
      "790 B-Target B-Target ['Carnivore', 'Carnivore', 'NNP', 'B-Target'] \n",
      "791 I-Target I-Target ['Canyon', 'Canyon', 'NNP', 'I-Target'] \n",
      "807 B-Target B-Target ['Book', 'book', 'NN', 'B-Target'] \n",
      "808 I-Target I-Target ['Cliffs', 'Cliffs', 'NNPS', 'I-Target'] \n",
      "810 B-Target B-Target ['Alexander', 'Alexander', 'NNP', 'B-Target'] \n",
      "811 I-Target I-Target ['Hills', 'Hills', 'NNP', 'I-Target'] \n",
      "814 B-Target B-Target ['Carnivore', 'Carnivore', 'NNP', 'B-Target'] \n",
      "815 I-Target I-Target ['Canyon', 'Canyon', 'NNP', 'I-Target'] \n",
      "872 B-Target B-Target ['Chinle', 'Chinle', 'NNP', 'B-Target'] \n",
      "909 B-Target B-Target ['Whale', 'Whale', 'NNP', 'B-Target'] \n",
      "910 I-Target I-Target ['Rock', 'Rock', 'NNP', 'I-Target'] \n",
      "937 B-Target B-Target ['Whale', 'Whale', 'NNP', 'B-Target'] \n",
      "938 I-Target I-Target ['Rock', 'Rock', 'NNP', 'I-Target'] \n",
      "1078 B-Target B-Target ['Chinle', 'Chinle', 'NNP', 'B-Target'] \n",
      "1095 B-Target B-Target ['Whale', 'Whale', 'NNP', 'B-Target'] \n",
      "1096 I-Target I-Target ['Rock', 'Rock', 'NNP', 'I-Target'] \n",
      "1269 B-Target B-Target ['Chinle', 'Chinle', 'NNP', 'B-Target'] \n",
      "1280 B-Target B-Target ['Whale', 'Whale', 'NNP', 'B-Target'] \n",
      "1281 I-Target I-Target ['Rock', 'Rock', 'NNP', 'I-Target'] \n",
      "3\n"
     ]
    }
   ],
   "source": [
    "tagger = pycrfsuite.Tagger()\n",
    "tagger.open(model_file)\n",
    "doc = corpus[20]\n",
    "seq = merge_sequences(doc)\n",
    "\n",
    "y = seq2labels(seq)\n",
    "y_ = tagger.tag(seq2features(seq))\n",
    "\n",
    "c = 0\n",
    "print(\"Truth, Predicted, [******]\")\n",
    "for idx, a,p, tok in zip(range(len(seq)), y, y_, seq):\n",
    "    if a != 'O' or p != 'O':\n",
    "        print(idx, a, p, tok, \"<<<<<ERROR\" if a != p else \"\")\n",
    "        if a != p:\n",
    "            c += 1\n",
    "print(c)"
   ]
  },
  {
   "cell_type": "markdown",
   "metadata": {
    "collapsed": false
   },
   "source": [
    "# Evaluate"
   ]
  },
  {
   "cell_type": "code",
   "execution_count": 82,
   "metadata": {
    "collapsed": false
   },
   "outputs": [
    {
     "name": "stdout",
     "output_type": "stream",
     "text": [
      "Development\n",
      "             precision    recall  f1-score   support\n",
      "\n",
      "   B-Target       0.86      0.17      0.28       147\n",
      "   I-Target       0.75      0.43      0.55        14\n",
      "\n",
      "avg / total       1.00      1.00      0.99     34970\n",
      "\n",
      "Testing\n",
      "             precision    recall  f1-score   support\n",
      "\n",
      "   B-Target       0.92      0.25      0.39       194\n",
      "   I-Target       0.89      0.40      0.55        20\n",
      "\n",
      "avg / total       1.00      1.00      1.00     60630\n",
      "\n"
     ]
    }
   ],
   "source": [
    "def bio_classification_report(y_true, y_pred):\n",
    "    \"\"\"\n",
    "    Classification report for a list of BIO-encoded sequences.\n",
    "    It computes token-level metrics and discards \"O\" labels.\n",
    "    \n",
    "    Note that it requires scikit-learn 0.15+ (or a version from github master)\n",
    "    to calculate averages properly!\n",
    "    \"\"\"\n",
    "    lb = LabelBinarizer()\n",
    "    y_true_combined = lb.fit_transform(list(chain.from_iterable(y_true)))\n",
    "    y_pred_combined = lb.transform(list(chain.from_iterable(y_pred)))\n",
    "        \n",
    "    tagset = set(lb.classes_) - {'O'}\n",
    "    tagset = sorted(tagset, key=lambda tag: tag.split('-', 1)[::-1])\n",
    "    #tagset.append('O')\n",
    "    class_indices = {cls: idx for idx, cls in enumerate(lb.classes_)}\n",
    "    \n",
    "    return classification_report(\n",
    "        y_true_combined,\n",
    "        y_pred_combined,\n",
    "        labels = [class_indices[cls] for cls in tagset],\n",
    "        target_names = tagset,\n",
    "    )\n",
    "\n",
    "def evaluate(tagger, corpus_file):    \n",
    "    corpus = pickle.load(open(corpus_file, 'rb'))\n",
    "    y_pred = []\n",
    "    y_true = []\n",
    "    for doc in corpus:\n",
    "        seq = merge_sequences(doc)\n",
    "        y_true.append(seq2labels(seq))\n",
    "        y_pred.append(tagger.tag(seq2features(seq)))\n",
    "    return bio_classification_report(y_true, y_pred)\n",
    "\n",
    "\n",
    "dev_corpus_file = 'mte-corpus-dev.pickle'\n",
    "test_corpus_file = 'mte-corpus-test.pickle'\n",
    "print(\"Development\")\n",
    "print(evaluate(tagger, dev_corpus_file))\n",
    "print(\"Testing\")\n",
    "print(evaluate(tagger, test_corpus_file))"
   ]
  },
  {
   "cell_type": "markdown",
   "metadata": {},
   "source": [
    "# Learning: State Transitions"
   ]
  },
  {
   "cell_type": "code",
   "execution_count": 61,
   "metadata": {
    "collapsed": false
   },
   "outputs": [
    {
     "name": "stdout",
     "output_type": "stream",
     "text": [
      "Top likely transitions:\n",
      "O      -> O       2.140082\n",
      "B-Target -> B-Target 1.862358\n",
      "B-Target -> I-Target 1.775527\n",
      "I-Target -> B-Target 1.398788\n",
      "I-Target -> I-Target 0.141875\n",
      "I-Target -> O       -0.285274\n",
      "O      -> B-Target -0.765632\n",
      "B-Target -> O       -0.982107\n",
      "O      -> I-Target -9.054744\n",
      "\n",
      "Top unlikely transitions:\n",
      "O      -> O       2.140082\n",
      "B-Target -> B-Target 1.862358\n",
      "B-Target -> I-Target 1.775527\n",
      "I-Target -> B-Target 1.398788\n",
      "I-Target -> I-Target 0.141875\n",
      "I-Target -> O       -0.285274\n",
      "O      -> B-Target -0.765632\n",
      "B-Target -> O       -0.982107\n",
      "O      -> I-Target -9.054744\n"
     ]
    }
   ],
   "source": [
    "from collections import Counter\n",
    "info = tagger.info()\n",
    "\n",
    "def print_transitions(trans_features):\n",
    "    for (label_from, label_to), weight in trans_features:\n",
    "        print(\"%-6s -> %-7s %0.6f\" % (label_from, label_to, weight))\n",
    "\n",
    "print(\"Top likely transitions:\")\n",
    "print_transitions(Counter(info.transitions).most_common(15))\n",
    "\n",
    "print(\"\\nTop unlikely transitions:\")\n",
    "print_transitions(Counter(info.transitions).most_common()[-15:])"
   ]
  },
  {
   "cell_type": "markdown",
   "metadata": {},
   "source": [
    "# Learning: State Features"
   ]
  },
  {
   "cell_type": "code",
   "execution_count": 62,
   "metadata": {
    "collapsed": false
   },
   "outputs": [
    {
     "name": "stdout",
     "output_type": "stream",
     "text": [
      "Top positive:\n",
      "8.374055 O      word.islower=True\n",
      "4.385436 B-Target word[-3:]=h-5\n",
      "4.237877 B-Target word[-3:]=bed\n",
      "4.030836 B-Target word[-3:]=_RP\n",
      "3.594240 B-Target word[-3:]=d_7\n",
      "3.594240 B-Target word[-2:]=_7\n",
      "3.569414 B-Target word[-3:]=h_5\n",
      "3.551940 B-Target word[-3:]=kee\n",
      "3.526859 B-Target word[-3:]=bud\n",
      "3.503635 B-Target word[-3:]=Dam\n",
      "3.391822 I-Target -1:word[-3:]=ind\n",
      "3.321321 I-Target -1:word[-3:]=nce\n",
      "3.316165 O      +1:word[-3:]=ter\n",
      "3.294934 B-Target word[-3:]=kle\n",
      "3.200349 I-Target -1:word[-2:]=rt\n",
      "3.195360 B-Target word[-3:]=JK\n",
      "3.193591 B-Target word[-2:]=JK\n",
      "3.102621 B-Target word[-3:]=pau\n",
      "3.082004 B-Target word[-3:]=_7P\n",
      "3.079147 B-Target word[-3:]=k-5\n",
      "\n",
      "Top negative:\n",
      "-2.446953 O      word[-2:]=ah\n",
      "-2.611947 O      word[-3:]=dox\n",
      "-2.629782 O      +1:word[-3:]=hed\n",
      "-2.683963 O      word[-3:]=aat\n",
      "-2.692232 O      word[-3:]=WER\n",
      "-2.726936 O      word[-2:]=ak\n",
      "-2.734673 O      word[-3:]=hew\n",
      "-2.743660 O      word[-2:]=_5\n",
      "-2.796850 O      word[-3:]=let\n",
      "-2.798843 O      word[-3:]=bed\n",
      "-2.842340 O      word[-3:]=nle\n",
      "-3.031723 O      +1:word[-3:]=get\n",
      "-3.052058 O      word[-3:]=ana\n",
      "-3.065188 O      word[-3:]=tet\n",
      "-3.090161 O      word[-3:]=pau\n",
      "-3.095123 O      word[-3:]=ake\n",
      "-3.359634 O      word[-3:]=hen\n",
      "-3.546183 O      word[-3:]=kee\n",
      "-3.727352 O      word[-3:]=out\n",
      "-3.844310 O      word[-3:]=yon\n"
     ]
    }
   ],
   "source": [
    "def print_state_features(state_features):\n",
    "    for (attr, label), weight in state_features:\n",
    "        print(\"%0.6f %-6s %s\" % (weight, label, attr))    \n",
    "\n",
    "print(\"Top positive:\")\n",
    "print_state_features(Counter(info.state_features).most_common(20))\n",
    "\n",
    "print(\"\\nTop negative:\")\n",
    "print_state_features(Counter(info.state_features).most_common()[-20:])"
   ]
  },
  {
   "cell_type": "code",
   "execution_count": null,
   "metadata": {
    "collapsed": false
   },
   "outputs": [],
   "source": []
  },
  {
   "cell_type": "code",
   "execution_count": 38,
   "metadata": {
    "collapsed": false
   },
   "outputs": [
    {
     "data": {
      "text/plain": [
       "False"
      ]
     },
     "execution_count": 38,
     "metadata": {},
     "output_type": "execute_result"
    }
   ],
   "source": [
    "\"AbCd\".istitle()"
   ]
  },
  {
   "cell_type": "code",
   "execution_count": null,
   "metadata": {
    "collapsed": true
   },
   "outputs": [],
   "source": []
  }
 ],
 "metadata": {
  "anaconda-cloud": {},
  "kernelspec": {
   "display_name": "Python 3",
   "language": "python",
   "name": "python3"
  },
  "language_info": {
   "codemirror_mode": {
    "name": "ipython",
    "version": 3
   },
   "file_extension": ".py",
   "mimetype": "text/x-python",
   "name": "python",
   "nbconvert_exporter": "python",
   "pygments_lexer": "ipython3",
   "version": "3.5.2"
  }
 },
 "nbformat": 4,
 "nbformat_minor": 1
}
